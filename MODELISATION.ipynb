{
 "cells": [
  {
   "cell_type": "code",
   "execution_count": 3,
   "metadata": {},
   "outputs": [],
   "source": [
    "import tensorflow as tf\n",
    "from tensorflow.keras.models import Model\n",
    "from tensorflow.keras.layers import Dense, Flatten, Dropout, GlobalAveragePooling2D\n",
    "from tensorflow.keras.preprocessing.image import ImageDataGenerator\n",
    "from tensorflow.keras.applications import ResNet50\n",
    "import os"
   ]
  },
  {
   "cell_type": "code",
   "execution_count": null,
   "metadata": {},
   "outputs": [],
   "source": [
    "# 🔹 Chargement des données avec augmentation\n",
    "'''\n",
    "datagen = ImageDataGenerator(\n",
    "    rescale=1./255,\n",
    "    validation_split=0.2,  # 80% train / 20% validation\n",
    "    rotation_range=20,\n",
    "    width_shift_range=0.2,\n",
    "    height_shift_range=0.2,\n",
    "    horizontal_flip=True\n",
    ")\n",
    "\n",
    "\n",
    "\n",
    "datagen = ImageDataGenerator(\n",
    "    rescale=1./255,  # Normalisation\n",
    "    rotation_range=20,  # Rotation aléatoire de 20°\n",
    "    width_shift_range=0.2,  # Décalage horizontal de 20%\n",
    "    height_shift_range=0.2,  # Décalage vertical de 20%\n",
    "    horizontal_flip=True  # Miroir horizontal\n",
    ")\n",
    "\n",
    "train_data = datagen.flow_from_directory(\n",
    "    'dataset/train/',  # Dossier contenant 'chat/' et 'oiseau/'\n",
    "    target_size=IMG_SIZE,\n",
    "    batch_size=BATCH_SIZE,\n",
    "    class_mode='binary',\n",
    "    subset='training'\n",
    ")\n",
    "\n",
    "val_data = datagen.flow_from_directory(\n",
    "    'dataset/validation',\n",
    "    target_size=IMG_SIZE,\n",
    "    batch_size=BATCH_SIZE,\n",
    "    class_mode='binary',\n",
    "    subset='validation'\n",
    ")\n",
    "\n",
    "'''\n",
    "\n",
    "# 🔹 Définition des paramètres\n",
    "IMG_SIZE = (224, 224)  # Taille standard pour ResNet\n",
    "BATCH_SIZE = 32\n",
    "EPOCHS = 10  # Augmenter si dataset plus grand\n",
    "\n",
    "\n",
    "# 📌 Générateur pour l'entraînement (avec Data Augmentation)\n",
    "datagen = ImageDataGenerator(\n",
    "    rescale=1./255,  # Normalisation des pixels entre 0 et 1\n",
    "    rotation_range=20,  # Rotation aléatoire de 20°\n",
    "    width_shift_range=0.2,  # Décalage horizontal de 20%\n",
    "    height_shift_range=0.2,  # Décalage vertical de 20%\n",
    "    horizontal_flip=True  # Miroir horizontal\n",
    ")\n",
    "\n",
    "# 📌 Générateur pour la validation (PAS de Data Augmentation, juste normalisation)\n",
    "val_datagen = ImageDataGenerator(rescale=1./255)\n",
    "\n",
    "train_data = datagen.flow_from_directory(\n",
    "    'dataset/train/',  # Dossier contenant 'chat/' et 'oiseau/'\n",
    "    target_size=IMG_SIZE,\n",
    "    batch_size=BATCH_SIZE,\n",
    "    class_mode='binary',\n",
    "    subset='training'\n",
    ")\n",
    "\n",
    "\n",
    "val_data = datagen.flow_from_directory(\n",
    "    'dataset/validation',\n",
    "    target_size=IMG_SIZE,\n",
    "    batch_size=BATCH_SIZE,\n",
    "    class_mode='binary',\n",
    "    subset='validation'\n",
    ")\n",
    "\n"
   ]
  },
  {
   "cell_type": "code",
   "execution_count": null,
   "metadata": {},
   "outputs": [],
   "source": []
  },
  {
   "cell_type": "code",
   "execution_count": null,
   "metadata": {},
   "outputs": [],
   "source": [
    "# 🔹 Chargement du modèle ResNet50 pré-entraîné\n",
    "base_model = ResNet50(weights='imagenet', include_top=False, input_shape=(224, 224, 3))\n",
    "\n",
    "# 🔹 On empêche le backbone d’être modifié au début\n",
    "base_model.trainable = False\n",
    "\n",
    "# 🔹 Construction du modèle\n",
    "x = base_model.output\n",
    "x = GlobalAveragePooling2D()(x)  # Réduit les dimensions\n",
    "x = Dense(256, activation='relu')(x)\n",
    "x = Dropout(0.5)(x)  # Réduit l'overfitting\n",
    "output = Dense(1, activation='sigmoid')(x)  # Sigmoid pour classification binaire\n",
    "\n",
    "model = Model(inputs=base_model.input, outputs=output)\n",
    "\n",
    "# 🔹 Compilation du modèle\n",
    "model.compile(optimizer='adam', loss='binary_crossentropy', metrics=['accuracy'])\n"
   ]
  },
  {
   "cell_type": "code",
   "execution_count": null,
   "metadata": {},
   "outputs": [],
   "source": [
    "\n",
    "# 🔹 Entraînement du modèle\n",
    "model.fit(train_data, validation_data=val_data, epochs=EPOCHS)"
   ]
  },
  {
   "cell_type": "code",
   "execution_count": null,
   "metadata": {},
   "outputs": [],
   "source": [
    "# 🔹 Sauvegarde du modèle pour Django\n",
    "model.save('chat_chien_model.h5')"
   ]
  }
 ],
 "metadata": {
  "kernelspec": {
   "display_name": "base",
   "language": "python",
   "name": "python3"
  },
  "language_info": {
   "codemirror_mode": {
    "name": "ipython",
    "version": 3
   },
   "file_extension": ".py",
   "mimetype": "text/x-python",
   "name": "python",
   "nbconvert_exporter": "python",
   "pygments_lexer": "ipython3",
   "version": "3.11.5"
  }
 },
 "nbformat": 4,
 "nbformat_minor": 2
}
